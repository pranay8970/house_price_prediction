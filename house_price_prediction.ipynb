{
 "cells": [
  {
   "cell_type": "code",
   "execution_count": 35,
   "id": "69bb8613-eee3-4e5e-9356-9bd02eeccd45",
   "metadata": {},
   "outputs": [],
   "source": [
    "import pandas as pd\n",
    "import numpy as np\n",
    "import matplotlib.pyplot as plt\n",
    "from sklearn.model_selection import train_test_split\n",
    "from sklearn.linear_model import LinearRegression\n",
    "from sklearn import metrics\n",
    "\n",
    "%matplotlib inline\n"
   ]
  },
  {
   "cell_type": "code",
   "execution_count": 36,
   "id": "21d566e2-c2d4-4619-a9ec-d2ea0865c94d",
   "metadata": {},
   "outputs": [],
   "source": [
    "file = pd.read_csv(r\"C:\\Users\\Dell\\OneDrive\\Desktop\\charang\\mlprojects\\housepriceprediction.csv\")"
   ]
  },
  {
   "cell_type": "code",
   "execution_count": 37,
   "id": "2ea7ae5e-015f-473b-b0ea-ca4baeafb525",
   "metadata": {},
   "outputs": [
    {
     "data": {
      "text/html": [
       "<div>\n",
       "<style scoped>\n",
       "    .dataframe tbody tr th:only-of-type {\n",
       "        vertical-align: middle;\n",
       "    }\n",
       "\n",
       "    .dataframe tbody tr th {\n",
       "        vertical-align: top;\n",
       "    }\n",
       "\n",
       "    .dataframe thead th {\n",
       "        text-align: right;\n",
       "    }\n",
       "</style>\n",
       "<table border=\"1\" class=\"dataframe\">\n",
       "  <thead>\n",
       "    <tr style=\"text-align: right;\">\n",
       "      <th></th>\n",
       "      <th>House_ID</th>\n",
       "      <th>Location</th>\n",
       "      <th>Square_Feet</th>\n",
       "      <th>Number_of_Bedrooms</th>\n",
       "      <th>Number_of_Bathrooms</th>\n",
       "      <th>Number_of_Floors</th>\n",
       "      <th>Year_Built</th>\n",
       "      <th>Year_Renovated</th>\n",
       "      <th>Price</th>\n",
       "    </tr>\n",
       "  </thead>\n",
       "  <tbody>\n",
       "    <tr>\n",
       "      <th>0</th>\n",
       "      <td>1</td>\n",
       "      <td>Mumbai</td>\n",
       "      <td>2500</td>\n",
       "      <td>3</td>\n",
       "      <td>2.0</td>\n",
       "      <td>2</td>\n",
       "      <td>2000</td>\n",
       "      <td>2015</td>\n",
       "      <td>350000</td>\n",
       "    </tr>\n",
       "    <tr>\n",
       "      <th>1</th>\n",
       "      <td>2</td>\n",
       "      <td>Delhi</td>\n",
       "      <td>3000</td>\n",
       "      <td>4</td>\n",
       "      <td>3.0</td>\n",
       "      <td>2</td>\n",
       "      <td>1995</td>\n",
       "      <td>0</td>\n",
       "      <td>420000</td>\n",
       "    </tr>\n",
       "    <tr>\n",
       "      <th>2</th>\n",
       "      <td>3</td>\n",
       "      <td>Bengaluru</td>\n",
       "      <td>1800</td>\n",
       "      <td>2</td>\n",
       "      <td>1.0</td>\n",
       "      <td>1</td>\n",
       "      <td>2010</td>\n",
       "      <td>0</td>\n",
       "      <td>250000</td>\n",
       "    </tr>\n",
       "    <tr>\n",
       "      <th>3</th>\n",
       "      <td>4</td>\n",
       "      <td>Chennai</td>\n",
       "      <td>3200</td>\n",
       "      <td>5</td>\n",
       "      <td>3.5</td>\n",
       "      <td>2</td>\n",
       "      <td>2005</td>\n",
       "      <td>2018</td>\n",
       "      <td>550000</td>\n",
       "    </tr>\n",
       "    <tr>\n",
       "      <th>4</th>\n",
       "      <td>5</td>\n",
       "      <td>Kolkata</td>\n",
       "      <td>2700</td>\n",
       "      <td>4</td>\n",
       "      <td>2.5</td>\n",
       "      <td>1</td>\n",
       "      <td>1990</td>\n",
       "      <td>0</td>\n",
       "      <td>380000</td>\n",
       "    </tr>\n",
       "  </tbody>\n",
       "</table>\n",
       "</div>"
      ],
      "text/plain": [
       "   House_ID   Location  Square_Feet  Number_of_Bedrooms  Number_of_Bathrooms  \\\n",
       "0         1     Mumbai         2500                   3                  2.0   \n",
       "1         2      Delhi         3000                   4                  3.0   \n",
       "2         3  Bengaluru         1800                   2                  1.0   \n",
       "3         4    Chennai         3200                   5                  3.5   \n",
       "4         5    Kolkata         2700                   4                  2.5   \n",
       "\n",
       "   Number_of_Floors  Year_Built  Year_Renovated   Price  \n",
       "0                 2        2000            2015  350000  \n",
       "1                 2        1995               0  420000  \n",
       "2                 1        2010               0  250000  \n",
       "3                 2        2005            2018  550000  \n",
       "4                 1        1990               0  380000  "
      ]
     },
     "execution_count": 37,
     "metadata": {},
     "output_type": "execute_result"
    }
   ],
   "source": [
    "file.head()"
   ]
  },
  {
   "cell_type": "code",
   "execution_count": 38,
   "id": "3d102456-3d81-4b0f-8301-5a5586b78bdd",
   "metadata": {},
   "outputs": [
    {
     "name": "stdout",
     "output_type": "stream",
     "text": [
      "<class 'pandas.core.frame.DataFrame'>\n",
      "RangeIndex: 132 entries, 0 to 131\n",
      "Data columns (total 9 columns):\n",
      " #   Column               Non-Null Count  Dtype  \n",
      "---  ------               --------------  -----  \n",
      " 0   House_ID             132 non-null    int64  \n",
      " 1   Location             132 non-null    object \n",
      " 2   Square_Feet          132 non-null    int64  \n",
      " 3   Number_of_Bedrooms   132 non-null    int64  \n",
      " 4   Number_of_Bathrooms  132 non-null    float64\n",
      " 5   Number_of_Floors     132 non-null    int64  \n",
      " 6   Year_Built           132 non-null    int64  \n",
      " 7   Year_Renovated       132 non-null    int64  \n",
      " 8   Price                132 non-null    int64  \n",
      "dtypes: float64(1), int64(7), object(1)\n",
      "memory usage: 9.4+ KB\n"
     ]
    }
   ],
   "source": [
    "file.info()"
   ]
  },
  {
   "cell_type": "code",
   "execution_count": 39,
   "id": "d034b42e-0aae-4d1c-9454-3a501c74539d",
   "metadata": {},
   "outputs": [
    {
     "data": {
      "text/html": [
       "<div>\n",
       "<style scoped>\n",
       "    .dataframe tbody tr th:only-of-type {\n",
       "        vertical-align: middle;\n",
       "    }\n",
       "\n",
       "    .dataframe tbody tr th {\n",
       "        vertical-align: top;\n",
       "    }\n",
       "\n",
       "    .dataframe thead th {\n",
       "        text-align: right;\n",
       "    }\n",
       "</style>\n",
       "<table border=\"1\" class=\"dataframe\">\n",
       "  <thead>\n",
       "    <tr style=\"text-align: right;\">\n",
       "      <th></th>\n",
       "      <th>House_ID</th>\n",
       "      <th>Square_Feet</th>\n",
       "      <th>Number_of_Bedrooms</th>\n",
       "      <th>Number_of_Bathrooms</th>\n",
       "      <th>Number_of_Floors</th>\n",
       "      <th>Year_Built</th>\n",
       "      <th>Year_Renovated</th>\n",
       "      <th>Price</th>\n",
       "    </tr>\n",
       "  </thead>\n",
       "  <tbody>\n",
       "    <tr>\n",
       "      <th>count</th>\n",
       "      <td>132.000000</td>\n",
       "      <td>132.000000</td>\n",
       "      <td>132.000000</td>\n",
       "      <td>132.000000</td>\n",
       "      <td>132.000000</td>\n",
       "      <td>132.000000</td>\n",
       "      <td>132.000000</td>\n",
       "      <td>132.000000</td>\n",
       "    </tr>\n",
       "    <tr>\n",
       "      <th>mean</th>\n",
       "      <td>66.500000</td>\n",
       "      <td>2654.545455</td>\n",
       "      <td>3.234848</td>\n",
       "      <td>2.219697</td>\n",
       "      <td>1.393939</td>\n",
       "      <td>2002.909091</td>\n",
       "      <td>152.825758</td>\n",
       "      <td>383939.393939</td>\n",
       "    </tr>\n",
       "    <tr>\n",
       "      <th>std</th>\n",
       "      <td>38.249183</td>\n",
       "      <td>711.236278</td>\n",
       "      <td>0.889805</td>\n",
       "      <td>0.893696</td>\n",
       "      <td>0.490483</td>\n",
       "      <td>9.385269</td>\n",
       "      <td>535.831201</td>\n",
       "      <td>119450.124222</td>\n",
       "    </tr>\n",
       "    <tr>\n",
       "      <th>min</th>\n",
       "      <td>1.000000</td>\n",
       "      <td>1500.000000</td>\n",
       "      <td>2.000000</td>\n",
       "      <td>1.000000</td>\n",
       "      <td>1.000000</td>\n",
       "      <td>1985.000000</td>\n",
       "      <td>0.000000</td>\n",
       "      <td>200000.000000</td>\n",
       "    </tr>\n",
       "    <tr>\n",
       "      <th>25%</th>\n",
       "      <td>33.750000</td>\n",
       "      <td>2100.000000</td>\n",
       "      <td>3.000000</td>\n",
       "      <td>2.000000</td>\n",
       "      <td>1.000000</td>\n",
       "      <td>1995.000000</td>\n",
       "      <td>0.000000</td>\n",
       "      <td>290000.000000</td>\n",
       "    </tr>\n",
       "    <tr>\n",
       "      <th>50%</th>\n",
       "      <td>66.500000</td>\n",
       "      <td>2600.000000</td>\n",
       "      <td>3.000000</td>\n",
       "      <td>2.000000</td>\n",
       "      <td>1.000000</td>\n",
       "      <td>2004.000000</td>\n",
       "      <td>0.000000</td>\n",
       "      <td>360000.000000</td>\n",
       "    </tr>\n",
       "    <tr>\n",
       "      <th>75%</th>\n",
       "      <td>99.250000</td>\n",
       "      <td>3100.000000</td>\n",
       "      <td>4.000000</td>\n",
       "      <td>3.000000</td>\n",
       "      <td>2.000000</td>\n",
       "      <td>2010.250000</td>\n",
       "      <td>0.000000</td>\n",
       "      <td>452500.000000</td>\n",
       "    </tr>\n",
       "    <tr>\n",
       "      <th>max</th>\n",
       "      <td>132.000000</td>\n",
       "      <td>4300.000000</td>\n",
       "      <td>5.000000</td>\n",
       "      <td>4.500000</td>\n",
       "      <td>2.000000</td>\n",
       "      <td>2020.000000</td>\n",
       "      <td>2020.000000</td>\n",
       "      <td>690000.000000</td>\n",
       "    </tr>\n",
       "  </tbody>\n",
       "</table>\n",
       "</div>"
      ],
      "text/plain": [
       "         House_ID  Square_Feet  Number_of_Bedrooms  Number_of_Bathrooms  \\\n",
       "count  132.000000   132.000000          132.000000           132.000000   \n",
       "mean    66.500000  2654.545455            3.234848             2.219697   \n",
       "std     38.249183   711.236278            0.889805             0.893696   \n",
       "min      1.000000  1500.000000            2.000000             1.000000   \n",
       "25%     33.750000  2100.000000            3.000000             2.000000   \n",
       "50%     66.500000  2600.000000            3.000000             2.000000   \n",
       "75%     99.250000  3100.000000            4.000000             3.000000   \n",
       "max    132.000000  4300.000000            5.000000             4.500000   \n",
       "\n",
       "       Number_of_Floors   Year_Built  Year_Renovated          Price  \n",
       "count        132.000000   132.000000      132.000000     132.000000  \n",
       "mean           1.393939  2002.909091      152.825758  383939.393939  \n",
       "std            0.490483     9.385269      535.831201  119450.124222  \n",
       "min            1.000000  1985.000000        0.000000  200000.000000  \n",
       "25%            1.000000  1995.000000        0.000000  290000.000000  \n",
       "50%            1.000000  2004.000000        0.000000  360000.000000  \n",
       "75%            2.000000  2010.250000        0.000000  452500.000000  \n",
       "max            2.000000  2020.000000     2020.000000  690000.000000  "
      ]
     },
     "execution_count": 39,
     "metadata": {},
     "output_type": "execute_result"
    }
   ],
   "source": [
    "file.describe()"
   ]
  },
  {
   "cell_type": "code",
   "execution_count": 40,
   "id": "892911a7-3c65-43e3-8f34-56fe5a9b407b",
   "metadata": {},
   "outputs": [
    {
     "data": {
      "text/plain": [
       "Index(['House_ID', 'Location', 'Square_Feet', 'Number_of_Bedrooms',\n",
       "       'Number_of_Bathrooms', 'Number_of_Floors', 'Year_Built',\n",
       "       'Year_Renovated', 'Price'],\n",
       "      dtype='object')"
      ]
     },
     "execution_count": 40,
     "metadata": {},
     "output_type": "execute_result"
    }
   ],
   "source": [
    "file.columns"
   ]
  },
  {
   "cell_type": "code",
   "execution_count": 41,
   "id": "0644bb0e-f4cd-46ef-941b-7cc0899ceb3b",
   "metadata": {},
   "outputs": [],
   "source": [
    "x = file[['Square_Feet', 'Number_of_Bedrooms',\n",
    "       'Number_of_Bathrooms', 'Number_of_Floors', 'Year_Built',\n",
    "       'Year_Renovated']]\n",
    "y = file['Price']"
   ]
  },
  {
   "cell_type": "markdown",
   "id": "f7bd568d-78c7-4f61-a7a6-261a1d11e6c1",
   "metadata": {},
   "source": [
    "TRAIN TEST SPLIT"
   ]
  },
  {
   "cell_type": "code",
   "execution_count": 42,
   "id": "082e2a1c-a922-4736-8be0-a2ec40d60a59",
   "metadata": {},
   "outputs": [],
   "source": [
    "from sklearn.model_selection import train_test_split"
   ]
  },
  {
   "cell_type": "code",
   "execution_count": 43,
   "id": "5efa600c-bc6f-4fd1-b9da-8e76b4e27c79",
   "metadata": {},
   "outputs": [],
   "source": [
    "x_train , x_test, y_train, y_test = train_test_split(x, y , test_size=0.6)"
   ]
  },
  {
   "cell_type": "markdown",
   "id": "3c8397b3-72cc-4bb9-8ca5-e6b22dd62b80",
   "metadata": {},
   "source": [
    "Creating and training Model"
   ]
  },
  {
   "cell_type": "code",
   "execution_count": 44,
   "id": "36776954-5bdf-44ae-a141-de7bb869fc9d",
   "metadata": {},
   "outputs": [
    {
     "data": {
      "text/html": [
       "<style>#sk-container-id-3 {color: black;}#sk-container-id-3 pre{padding: 0;}#sk-container-id-3 div.sk-toggleable {background-color: white;}#sk-container-id-3 label.sk-toggleable__label {cursor: pointer;display: block;width: 100%;margin-bottom: 0;padding: 0.3em;box-sizing: border-box;text-align: center;}#sk-container-id-3 label.sk-toggleable__label-arrow:before {content: \"▸\";float: left;margin-right: 0.25em;color: #696969;}#sk-container-id-3 label.sk-toggleable__label-arrow:hover:before {color: black;}#sk-container-id-3 div.sk-estimator:hover label.sk-toggleable__label-arrow:before {color: black;}#sk-container-id-3 div.sk-toggleable__content {max-height: 0;max-width: 0;overflow: hidden;text-align: left;background-color: #f0f8ff;}#sk-container-id-3 div.sk-toggleable__content pre {margin: 0.2em;color: black;border-radius: 0.25em;background-color: #f0f8ff;}#sk-container-id-3 input.sk-toggleable__control:checked~div.sk-toggleable__content {max-height: 200px;max-width: 100%;overflow: auto;}#sk-container-id-3 input.sk-toggleable__control:checked~label.sk-toggleable__label-arrow:before {content: \"▾\";}#sk-container-id-3 div.sk-estimator input.sk-toggleable__control:checked~label.sk-toggleable__label {background-color: #d4ebff;}#sk-container-id-3 div.sk-label input.sk-toggleable__control:checked~label.sk-toggleable__label {background-color: #d4ebff;}#sk-container-id-3 input.sk-hidden--visually {border: 0;clip: rect(1px 1px 1px 1px);clip: rect(1px, 1px, 1px, 1px);height: 1px;margin: -1px;overflow: hidden;padding: 0;position: absolute;width: 1px;}#sk-container-id-3 div.sk-estimator {font-family: monospace;background-color: #f0f8ff;border: 1px dotted black;border-radius: 0.25em;box-sizing: border-box;margin-bottom: 0.5em;}#sk-container-id-3 div.sk-estimator:hover {background-color: #d4ebff;}#sk-container-id-3 div.sk-parallel-item::after {content: \"\";width: 100%;border-bottom: 1px solid gray;flex-grow: 1;}#sk-container-id-3 div.sk-label:hover label.sk-toggleable__label {background-color: #d4ebff;}#sk-container-id-3 div.sk-serial::before {content: \"\";position: absolute;border-left: 1px solid gray;box-sizing: border-box;top: 0;bottom: 0;left: 50%;z-index: 0;}#sk-container-id-3 div.sk-serial {display: flex;flex-direction: column;align-items: center;background-color: white;padding-right: 0.2em;padding-left: 0.2em;position: relative;}#sk-container-id-3 div.sk-item {position: relative;z-index: 1;}#sk-container-id-3 div.sk-parallel {display: flex;align-items: stretch;justify-content: center;background-color: white;position: relative;}#sk-container-id-3 div.sk-item::before, #sk-container-id-3 div.sk-parallel-item::before {content: \"\";position: absolute;border-left: 1px solid gray;box-sizing: border-box;top: 0;bottom: 0;left: 50%;z-index: -1;}#sk-container-id-3 div.sk-parallel-item {display: flex;flex-direction: column;z-index: 1;position: relative;background-color: white;}#sk-container-id-3 div.sk-parallel-item:first-child::after {align-self: flex-end;width: 50%;}#sk-container-id-3 div.sk-parallel-item:last-child::after {align-self: flex-start;width: 50%;}#sk-container-id-3 div.sk-parallel-item:only-child::after {width: 0;}#sk-container-id-3 div.sk-dashed-wrapped {border: 1px dashed gray;margin: 0 0.4em 0.5em 0.4em;box-sizing: border-box;padding-bottom: 0.4em;background-color: white;}#sk-container-id-3 div.sk-label label {font-family: monospace;font-weight: bold;display: inline-block;line-height: 1.2em;}#sk-container-id-3 div.sk-label-container {text-align: center;}#sk-container-id-3 div.sk-container {/* jupyter's `normalize.less` sets `[hidden] { display: none; }` but bootstrap.min.css set `[hidden] { display: none !important; }` so we also need the `!important` here to be able to override the default hidden behavior on the sphinx rendered scikit-learn.org. See: https://github.com/scikit-learn/scikit-learn/issues/21755 */display: inline-block !important;position: relative;}#sk-container-id-3 div.sk-text-repr-fallback {display: none;}</style><div id=\"sk-container-id-3\" class=\"sk-top-container\"><div class=\"sk-text-repr-fallback\"><pre>LinearRegression()</pre><b>In a Jupyter environment, please rerun this cell to show the HTML representation or trust the notebook. <br />On GitHub, the HTML representation is unable to render, please try loading this page with nbviewer.org.</b></div><div class=\"sk-container\" hidden><div class=\"sk-item\"><div class=\"sk-estimator sk-toggleable\"><input class=\"sk-toggleable__control sk-hidden--visually\" id=\"sk-estimator-id-3\" type=\"checkbox\" checked><label for=\"sk-estimator-id-3\" class=\"sk-toggleable__label sk-toggleable__label-arrow\">LinearRegression</label><div class=\"sk-toggleable__content\"><pre>LinearRegression()</pre></div></div></div></div></div>"
      ],
      "text/plain": [
       "LinearRegression()"
      ]
     },
     "execution_count": 44,
     "metadata": {},
     "output_type": "execute_result"
    }
   ],
   "source": [
    "from sklearn.linear_model import LinearRegression\n",
    "lr = LinearRegression()\n",
    "lr.fit(x_train, y_train)"
   ]
  },
  {
   "cell_type": "markdown",
   "id": "650ae7eb-4e24-4802-9b87-bcb9a18d624c",
   "metadata": {},
   "source": [
    "MODEL EVALUATION"
   ]
  },
  {
   "cell_type": "code",
   "execution_count": 45,
   "id": "8430d67a-bdda-4545-8223-db47bc583b20",
   "metadata": {},
   "outputs": [
    {
     "name": "stdout",
     "output_type": "stream",
     "text": [
      "-4351597.42395459\n"
     ]
    }
   ],
   "source": [
    "print(lr.intercept_)"
   ]
  },
  {
   "cell_type": "code",
   "execution_count": 46,
   "id": "449f95c2-2688-44f5-86bf-2acf4da13a59",
   "metadata": {},
   "outputs": [
    {
     "data": {
      "text/html": [
       "<div>\n",
       "<style scoped>\n",
       "    .dataframe tbody tr th:only-of-type {\n",
       "        vertical-align: middle;\n",
       "    }\n",
       "\n",
       "    .dataframe tbody tr th {\n",
       "        vertical-align: top;\n",
       "    }\n",
       "\n",
       "    .dataframe thead th {\n",
       "        text-align: right;\n",
       "    }\n",
       "</style>\n",
       "<table border=\"1\" class=\"dataframe\">\n",
       "  <thead>\n",
       "    <tr style=\"text-align: right;\">\n",
       "      <th></th>\n",
       "      <th>Coefficients</th>\n",
       "    </tr>\n",
       "  </thead>\n",
       "  <tbody>\n",
       "    <tr>\n",
       "      <th>Square_Feet</th>\n",
       "      <td>122.390652</td>\n",
       "    </tr>\n",
       "    <tr>\n",
       "      <th>Number_of_Bedrooms</th>\n",
       "      <td>23128.302910</td>\n",
       "    </tr>\n",
       "    <tr>\n",
       "      <th>Number_of_Bathrooms</th>\n",
       "      <td>12376.716538</td>\n",
       "    </tr>\n",
       "    <tr>\n",
       "      <th>Number_of_Floors</th>\n",
       "      <td>-5301.495576</td>\n",
       "    </tr>\n",
       "    <tr>\n",
       "      <th>Year_Built</th>\n",
       "      <td>2155.063929</td>\n",
       "    </tr>\n",
       "    <tr>\n",
       "      <th>Year_Renovated</th>\n",
       "      <td>4.864534</td>\n",
       "    </tr>\n",
       "  </tbody>\n",
       "</table>\n",
       "</div>"
      ],
      "text/plain": [
       "                     Coefficients\n",
       "Square_Feet            122.390652\n",
       "Number_of_Bedrooms   23128.302910\n",
       "Number_of_Bathrooms  12376.716538\n",
       "Number_of_Floors     -5301.495576\n",
       "Year_Built            2155.063929\n",
       "Year_Renovated           4.864534"
      ]
     },
     "execution_count": 46,
     "metadata": {},
     "output_type": "execute_result"
    }
   ],
   "source": [
    "coeff_ = pd.DataFrame(lr.coef_, x.columns,columns = ['Coefficients'])\n",
    "coeff_"
   ]
  },
  {
   "cell_type": "code",
   "execution_count": 47,
   "id": "d584d524-3c80-447e-9cff-722638406675",
   "metadata": {},
   "outputs": [],
   "source": [
    "pred = lr.predict(x_test)"
   ]
  },
  {
   "cell_type": "code",
   "execution_count": 48,
   "id": "37bf9b94-4e54-43a6-8aa8-e9096df859ac",
   "metadata": {},
   "outputs": [
    {
     "data": {
      "text/plain": [
       "<matplotlib.collections.PathCollection at 0x1bc92358d50>"
      ]
     },
     "execution_count": 48,
     "metadata": {},
     "output_type": "execute_result"
    },
    {
     "data": {
      "image/png": "[encoded data removed]",
      "text/plain": [
       "<Figure size 640x480 with 1 Axes>"
      ]
     },
     "metadata": {},
     "output_type": "display_data"
    }
   ],
   "source": [
    "plt.scatter(y_test, pred)"
   ]
  },
  {
   "cell_type": "code",
   "execution_count": 49,
   "id": "85851dd1-19e5-44b6-a41e-3a88f704ba4c",
   "metadata": {},
   "outputs": [],
   "source": [
    "from sklearn import metrics"
   ]
  },
  {
   "cell_type": "code",
   "execution_count": 50,
   "id": "692b0628-ec4e-4dda-8985-f43bfd95c50f",
   "metadata": {},
   "outputs": [
    {
     "name": "stdout",
     "output_type": "stream",
     "text": [
      "MAE: 19312.31075813535\n",
      "MSE: 636158882.3326582\n",
      "RMSE: 25222.190276275735\n"
     ]
    }
   ],
   "source": [
    "print('MAE:', metrics.mean_absolute_error(y_test, pred))\n",
    "print('MSE:', metrics.mean_squared_error(y_test, pred))\n",
    "print('RMSE:', np.sqrt(metrics.mean_squared_error(y_test, pred)))"
   ]
  }
 ],
 "metadata": {
  "kernelspec": {
   "display_name": "Python 3 (ipykernel)",
   "language": "python",
   "name": "python3"
  },
  "language_info": {
   "codemirror_mode": {
    "name": "ipython",
    "version": 3
   },
   "file_extension": ".py",
   "mimetype": "text/x-python",
   "name": "python",
   "nbconvert_exporter": "python",
   "pygments_lexer": "ipython3",
   "version": "3.11.4"
  }
 },
 "nbformat": 4,
 "nbformat_minor": 5
}
